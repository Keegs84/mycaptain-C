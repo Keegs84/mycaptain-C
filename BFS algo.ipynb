{
  "nbformat": 4,
  "nbformat_minor": 0,
  "metadata": {
    "colab": {
      "provenance": [],
      "authorship_tag": "ABX9TyP1Y9WmTGLLeCNKesYjY8Sy",
      "include_colab_link": true
    },
    "kernelspec": {
      "name": "python3",
      "display_name": "Python 3"
    },
    "language_info": {
      "name": "python"
    }
  },
  "cells": [
    {
      "cell_type": "markdown",
      "metadata": {
        "id": "view-in-github",
        "colab_type": "text"
      },
      "source": [
        "<a href=\"https://colab.research.google.com/github/Keegs84/mycaptain-C/blob/main/BFS%20algo.ipynb\" target=\"_parent\"><img src=\"https://colab.research.google.com/assets/colab-badge.svg\" alt=\"Open In Colab\"/></a>"
      ]
    },
    {
      "cell_type": "code",
      "source": [
        "from collections import deque\n",
        "\n",
        "def BFS(a, b, target):\n",
        "    visited = {}  # dictionary\n",
        "    isSolvable = False  # flag to check if we got the solution\n",
        "    path = []   # the final solution\n",
        "\n",
        "    q = deque()\n",
        "    q.append((0, 0))\n",
        "\n",
        "    while len(q) > 0:\n",
        "        u = q.popleft()   # popping the leftmost element\n",
        "        if (u[0], u[1]) in visited:\n",
        "            continue\n",
        "\n",
        "        path.append([u[0], u[1]])\n",
        "\n",
        "        visited[(u[0], u[1])] = 1\n",
        "\n",
        "        if u[0] == target or u[1] == target:\n",
        "            isSolvable = True\n",
        "            l = len(path)\n",
        "            for i in range(l):\n",
        "                print(\"(\", path[i][0], \",\", path[i][1], \")\")  # Print the solution\n",
        "            break\n",
        "\n",
        "        # fill the jug\n",
        "        q.append((a, u[1]))\n",
        "        q.append((u[0], b))\n",
        "\n",
        "        # empty the jug\n",
        "        q.append((a, 0))\n",
        "        q.append((0, b))\n",
        "\n",
        "        # swapping the contents\n",
        "        x = min(u[1], (a - u[0]))\n",
        "        y = min(u[0], (b - u[1]))\n",
        "        q.append((u[0] + x, u[1] - x))\n",
        "        q.append((u[0] - y, u[1] + y))\n",
        "\n",
        "    # print(q)\n",
        "\n",
        "# main program\n",
        "jug1, jug2, target = 4, 3, 2\n",
        "print(\"Path from initial state to solution state: \")\n",
        "BFS(jug1, jug2, target)"
      ],
      "metadata": {
        "colab": {
          "base_uri": "https://localhost:8080/"
        },
        "id": "vQk3rEsyYQN5",
        "outputId": "d8c8bb9e-559b-4e62-f2f7-0ad0caca438c"
      },
      "execution_count": null,
      "outputs": [
        {
          "output_type": "stream",
          "name": "stdout",
          "text": [
            "Path from initial state to solution state: \n",
            "( 0 , 0 )\n",
            "( 4 , 0 )\n",
            "( 0 , 3 )\n",
            "( 4 , 3 )\n",
            "( 1 , 3 )\n",
            "( 3 , 0 )\n",
            "( 3 , 3 )\n",
            "( 4 , 2 )\n"
          ]
        }
      ]
    }
  ]
}